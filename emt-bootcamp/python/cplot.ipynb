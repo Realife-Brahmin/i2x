{
 "cells": [
  {
   "cell_type": "code",
   "execution_count": 1,
   "id": "7d58f38a",
   "metadata": {},
   "outputs": [],
   "source": [
    "import sys\n",
    "import os\n",
    "import matplotlib.pyplot as plt\n",
    "import numpy as np\n",
    "from comtrade import Comtrade\n",
    "plt.rcParams['savefig.directory'] = os.getcwd()\n",
    "\n",
    "# change this to match the exported COMTRADE file\n",
    "root = '../PSCAD/COMTRADEtest/playback'\n",
    "\n",
    "# load all the analog channels into a dictionary of numpy arrays\n",
    "rec = Comtrade ()\n",
    "rec.load (root + '.cfg', root + '.dat')\n",
    "t = np.array(rec.time)\n",
    "channels = {}\n",
    "for i in range(rec.analog_count):\n",
    "    lbl = rec.analog_channel_ids[i]\n",
    "    channels[lbl] = np.array (rec.analog[i])\n"
   ]
  },
  {
   "cell_type": "code",
   "execution_count": 2,
   "id": "807b32e8",
   "metadata": {},
   "outputs": [
    {
     "name": "stdout",
     "output_type": "stream",
     "text": [
      "Channel           Min        Max       Mean\n",
      " A1: VA     -113.8670   113.8812    -0.0015\n",
      " A2: VB     -114.4510   113.8711    -0.0001\n",
      " A3: VC     -119.1830   119.9054     0.0021\n",
      " A4: IA       -1.2905     1.1776    -0.0000\n",
      " A5: IB       -1.1686     1.0325     0.0004\n",
      " A6: IC       -1.3620     1.4817    -0.0004\n"
     ]
    }
   ],
   "source": [
    "print ('Channel           Min        Max       Mean')\n",
    "for key, val in channels.items():\n",
    "    print ('{:10s} {:10.4f} {:10.4f} {:10.4f}'.format (key, np.min(val), np.max(val), np.mean(val)))"
   ]
  },
  {
   "cell_type": "code",
   "execution_count": null,
   "id": "ea5421a9",
   "metadata": {},
   "outputs": [],
   "source": [
    "# display the channels in groups of three\n",
    "%matplotlib notebook\n",
    "labels = [lbl for lbl in channels]\n",
    "fig, ax = plt.subplots(2, 1, sharex = 'col', figsize=(12,8), constrained_layout=True)\n",
    "fig.suptitle ('Case: ' + root)\n",
    "for i in range(2):\n",
    "    for j in range(3):\n",
    "        lbl = labels[3*i + j]\n",
    "        ax[i].plot(t, channels[lbl], label=lbl)\n",
    "    ax[i].grid()\n",
    "    ax[i].legend()\n",
    "\n",
    "plt.show()"
   ]
  },
  {
   "cell_type": "code",
   "execution_count": null,
   "id": "61d9f545",
   "metadata": {},
   "outputs": [],
   "source": []
  }
 ],
 "metadata": {
  "kernelspec": {
   "display_name": "Python 3 (ipykernel)",
   "language": "python",
   "name": "python3"
  },
  "language_info": {
   "codemirror_mode": {
    "name": "ipython",
    "version": 3
   },
   "file_extension": ".py",
   "mimetype": "text/x-python",
   "name": "python",
   "nbconvert_exporter": "python",
   "pygments_lexer": "ipython3",
   "version": "3.10.5"
  }
 },
 "nbformat": 4,
 "nbformat_minor": 5
}
