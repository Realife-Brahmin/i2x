{
 "cells": [
  {
   "cell_type": "code",
   "execution_count": null,
   "id": "7d58f38a",
   "metadata": {},
   "outputs": [],
   "source": [
    "import sys\n",
    "import os\n",
    "import matplotlib.pyplot as plt\n",
    "import numpy as np\n",
    "import math\n",
    "from comtrade import Comtrade\n",
    "plt.rcParams['savefig.directory'] = os.getcwd()\n",
    "\n",
    "# change this to match the exported COMTRADE file\n",
    "root = '../PSCAD/COMTRADEtest/playback'\n",
    "\n",
    "# load all the analog channels into a dictionary of numpy arrays\n",
    "# 1..3 = Va..Vc\n",
    "# 4..6 = Ia..Ic\n",
    "# 7 = Vrms\n",
    "# 8 = P\n",
    "# 9 = Q\n",
    "# load all the analog channels into a dictionary of numpy arrays\n",
    "rec = Comtrade ()\n",
    "rec.load (root + '.cfg', root + '.dat')\n",
    "t = np.array(rec.time)\n",
    "channels = {}\n",
    "for i in range(rec.analog_count):\n",
    "    lbl = rec.analog_channel_ids[i]\n",
    "    channels[lbl] = np.array (rec.analog[i])\n"
   ]
  },
  {
   "cell_type": "code",
   "execution_count": null,
   "id": "7721e5f5",
   "metadata": {},
   "outputs": [],
   "source": [
    "kVLNbase = 138.0 / math.sqrt(3.0)\n",
    "MVAbase = 100.0\n",
    "kAbase = MVAbase / kVLNbase / 3.0\n",
    "\n",
    "def scale_factor(lbl):\n",
    "  if 'P' in lbl:\n",
    "    return 1.0 / MVAbase\n",
    "  elif 'Q' in lbl:\n",
    "    return 1.0 / MVAbase\n",
    "  elif 'I' in lbl:\n",
    "    return 1.0 / kAbase / math.sqrt(2.0)\n",
    "  elif 'rms' in lbl:\n",
    "    return 1.0\n",
    "  elif 'V' in lbl:\n",
    "    return 1.0 / kVLNbase / math.sqrt(2.0)\n",
    "  return 1.0"
   ]
  },
  {
   "cell_type": "code",
   "execution_count": null,
   "id": "807b32e8",
   "metadata": {},
   "outputs": [],
   "source": [
    "print ('Channel           Min        Max       Mean')\n",
    "for key, val in channels.items():\n",
    "    print ('{:10s} {:10.4f} {:10.4f} {:10.4f}'.format (key, np.min(val), np.max(val), np.mean(val)))"
   ]
  },
  {
   "cell_type": "code",
   "execution_count": null,
   "id": "ea5421a9",
   "metadata": {
    "scrolled": false
   },
   "outputs": [],
   "source": [
    "# display the channels in groups of three\n",
    "# %matplotlib inline\n",
    "%matplotlib notebook\n",
    "# %matplotlib widget\n",
    "labels = [lbl for lbl in channels]\n",
    "fig, ax = plt.subplots(3, 1, sharex = 'col', figsize=(12,10), constrained_layout=True)\n",
    "fig.suptitle ('Case: ' + root)\n",
    "for i in range(3):\n",
    "    for j in range(3):\n",
    "        lbl = labels[3*i + j]\n",
    "        ax[i].plot(t, scale_factor(lbl) * channels[lbl], label=lbl)\n",
    "    ax[i].grid()\n",
    "    ax[i].legend()\n",
    "\n",
    "plt.show()"
   ]
  },
  {
   "cell_type": "code",
   "execution_count": null,
   "id": "61d9f545",
   "metadata": {},
   "outputs": [],
   "source": []
  },
  {
   "cell_type": "code",
   "execution_count": null,
   "id": "8a5ae73c",
   "metadata": {},
   "outputs": [],
   "source": []
  }
 ],
 "metadata": {
  "kernelspec": {
   "display_name": "Python 3 (ipykernel)",
   "language": "python",
   "name": "python3"
  },
  "language_info": {
   "codemirror_mode": {
    "name": "ipython",
    "version": 3
   },
   "file_extension": ".py",
   "mimetype": "text/x-python",
   "name": "python",
   "nbconvert_exporter": "python",
   "pygments_lexer": "ipython3",
   "version": "3.10.5"
  }
 },
 "nbformat": 4,
 "nbformat_minor": 5
}
