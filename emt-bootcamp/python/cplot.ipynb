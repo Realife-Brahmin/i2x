{
 "cells": [
  {
   "cell_type": "code",
   "execution_count": null,
   "id": "7d58f38a",
   "metadata": {},
   "outputs": [],
   "source": [
    "import sys\n",
    "import os\n",
    "import matplotlib.pyplot as plt\n",
    "import numpy as np\n",
    "import math\n",
    "from comtrade import Comtrade\n",
    "import plotly.graph_objects as go\n",
    "import plotly.express as px\n",
    "plt.rcParams['savefig.directory'] = os.getcwd()\n",
    "\n",
    "# change this to match the exported COMTRADE file\n",
    "root = '../PSCAD/COMTRADEtest/playback'\n",
    "\n",
    "# load all the analog channels into a dictionary of numpy arrays\n",
    "# 1..3 = Va..Vc\n",
    "# 4..6 = Ia..Ic\n",
    "# 7 = Vrms\n",
    "# 8 = P\n",
    "# 9 = Q\n",
    "# load all the analog channels into a dictionary of numpy arrays\n",
    "rec = Comtrade ()\n",
    "rec.load (root + '.cfg', root + '.dat')\n",
    "t = np.array(rec.time)\n",
    "channels = {}\n",
    "for i in range(rec.analog_count):\n",
    "    lbl = rec.analog_channel_ids[i]\n",
    "    channels[lbl] = np.array (rec.analog[i])\n"
   ]
  },
  {
   "cell_type": "code",
   "execution_count": null,
   "id": "7721e5f5",
   "metadata": {},
   "outputs": [],
   "source": [
    "kVLNbase = 138.0 / math.sqrt(3.0)\n",
    "MVAbase = 100.0\n",
    "kAbase = MVAbase / kVLNbase / 3.0\n",
    "\n",
    "def scale_factor(lbl):\n",
    "  if 'P' in lbl:\n",
    "    return 1.0 / MVAbase\n",
    "  elif 'Q' in lbl:\n",
    "    return 1.0 / MVAbase\n",
    "  elif 'I' in lbl:\n",
    "    return 1.0 / kAbase / math.sqrt(2.0)\n",
    "  elif 'rms' in lbl:\n",
    "    return 1.0\n",
    "  elif 'V' in lbl:\n",
    "    return 1.0 / kVLNbase / math.sqrt(2.0)\n",
    "  return 1.0\n",
    "\n",
    "\n",
    "class ColorList:\n",
    "    def __init__(self):\n",
    "        self.cidx = 0\n",
    "        self.colors = px.colors.qualitative.Plotly\n",
    "        self.n = len(self.colors)\n",
    "    def __call__(self):\n",
    "        return self.colors[self.cidx]\n",
    "    def step(self):\n",
    "        self.cidx = (self.cidx + 1) % self.n\n",
    "    def setidx(self, cidx):\n",
    "        self.cidx = cidx\n",
    "    def getidx(self):\n",
    "        return self.cidx\n",
    "    def shiftidx(self, shift):\n",
    "        self.cidx = (self.cidx + shift) % self.n"
   ]
  },
  {
   "cell_type": "code",
   "execution_count": null,
   "id": "807b32e8",
   "metadata": {},
   "outputs": [],
   "source": [
    "print ('Channel           Min        Max       Mean')\n",
    "for key, val in channels.items():\n",
    "    print ('{:10s} {:10.4f} {:10.4f} {:10.4f}'.format (key, np.min(val), np.max(val), np.mean(val)))"
   ]
  },
  {
   "cell_type": "markdown",
   "id": "d35ddfbb",
   "metadata": {},
   "source": [
    "Run the following cell to generate the plot using [Plotly](https://plotly.com/python/getting-started/) an interactive plotting library."
   ]
  },
  {
   "cell_type": "code",
   "execution_count": null,
   "id": "47487011",
   "metadata": {},
   "outputs": [],
   "source": [
    "fig = go.Figure().set_subplots(3, 1, shared_xaxes=True, x_title=\"Time [s]\")\n",
    "labels = [lbl for lbl in channels]\n",
    "colors = ColorList()\n",
    "for i in range(3):\n",
    "    if i < 2:\n",
    "        colors.setidx(0)\n",
    "    for j in range(3):\n",
    "        label = labels[3*i + j]\n",
    "        fig.add_trace(go.Scatter(x=t, y=scale_factor(label)*channels[label],\n",
    "                                 name=label, line_color=colors()),\n",
    "                                 row=i+1, col=1)\n",
    "        colors.step()\n",
    "fig.update_layout(title='Case: ' + root, template=\"simple_white\", width=1200, height=1000)\n",
    "fig.update_xaxes(showgrid=True, minor_showgrid=True)\n",
    "fig.update_yaxes(showgrid=True, minor_showgrid=True)\n",
    "#### Display/Save\n",
    "## uncomment the line below to save the plot to an html file (still interactive) that can be opened later\n",
    "# fig.write_html(os.path.join(os.getcwd(), \"comtrade_plot_test.html\")) \n",
    "fig.show()"
   ]
  },
  {
   "cell_type": "markdown",
   "id": "f8e9e760",
   "metadata": {},
   "source": [
    "Run the following cell to generate the plots using [Matplotlib](https://matplotlib.org/)"
   ]
  },
  {
   "cell_type": "code",
   "execution_count": null,
   "id": "ea5421a9",
   "metadata": {
    "scrolled": false
   },
   "outputs": [],
   "source": [
    "# display the channels in groups of three\n",
    "# %matplotlib inline\n",
    "%matplotlib notebook\n",
    "# %matplotlib widget\n",
    "labels = [lbl for lbl in channels]\n",
    "fig, ax = plt.subplots(3, 1, sharex = 'col', figsize=(12,10), constrained_layout=True)\n",
    "fig.suptitle ('Case: ' + root)\n",
    "for i in range(3):\n",
    "    for j in range(3):\n",
    "        lbl = labels[3*i + j]\n",
    "        ax[i].plot(t, scale_factor(lbl) * channels[lbl], label=lbl)\n",
    "    ax[i].grid()\n",
    "    ax[i].legend()\n",
    "\n",
    "plt.show()"
   ]
  },
  {
   "cell_type": "code",
   "execution_count": null,
   "id": "61d9f545",
   "metadata": {},
   "outputs": [],
   "source": []
  },
  {
   "cell_type": "code",
   "execution_count": null,
   "id": "8a5ae73c",
   "metadata": {},
   "outputs": [],
   "source": []
  }
 ],
 "metadata": {
  "kernelspec": {
   "display_name": "Python 3 (ipykernel)",
   "language": "python",
   "name": "python3"
  },
  "language_info": {
   "codemirror_mode": {
    "name": "ipython",
    "version": 3
   },
   "file_extension": ".py",
   "mimetype": "text/x-python",
   "name": "python",
   "nbconvert_exporter": "python",
   "pygments_lexer": "ipython3",
   "version": "3.10.12"
  }
 },
 "nbformat": 4,
 "nbformat_minor": 5
}
